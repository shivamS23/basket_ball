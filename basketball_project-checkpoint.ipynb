{
 "cells": [
  {
   "cell_type": "code",
   "execution_count": 1,
   "id": "79802d7b",
   "metadata": {},
   "outputs": [
    {
     "name": "stdout",
     "output_type": "stream",
     "text": [
      "Requirement already satisfied: cvzone in c:\\users\\rohan\\appdata\\local\\packages\\pythonsoftwarefoundation.python.3.10_qbz5n2kfra8p0\\localcache\\local-packages\\python310\\site-packages (1.5.6)\n",
      "Requirement already satisfied: opencv-python in c:\\users\\rohan\\appdata\\local\\packages\\pythonsoftwarefoundation.python.3.10_qbz5n2kfra8p0\\localcache\\local-packages\\python310\\site-packages (from cvzone) (4.6.0.66)\n",
      "Requirement already satisfied: numpy in c:\\users\\rohan\\appdata\\local\\packages\\pythonsoftwarefoundation.python.3.10_qbz5n2kfra8p0\\localcache\\local-packages\\python310\\site-packages (from cvzone) (1.23.2)\n",
      "Note: you may need to restart the kernel to use updated packages.\n"
     ]
    }
   ],
   "source": [
    "pip install cvzone"
   ]
  },
  {
   "cell_type": "markdown",
   "id": "46b621b9",
   "metadata": {},
   "source": [
    "### Reading input from a video stored in our local system"
   ]
  },
  {
   "cell_type": "code",
   "execution_count": 15,
   "id": "9e51ad9b",
   "metadata": {},
   "outputs": [],
   "source": [
    "# Global constant for video input file\n",
    "global FILENAME\n",
    "FILENAME = 'Videos\\\\vid (6).mp4'"
   ]
  },
  {
   "cell_type": "code",
   "execution_count": 2,
   "id": "bab1f00c",
   "metadata": {},
   "outputs": [],
   "source": [
    "import cv2 \n",
    "import cvzone\n",
    "from cvzone.ColorModule import ColorFinder\n",
    "import math\n",
    "import numpy as np\n",
    "\n",
    "cap = cv2.VideoCapture(FILENAME)\n",
    "\n",
    "while True :\n",
    "    # Grab the image \n",
    "    success, img = cap.read()\n",
    "\n",
    "    try: \n",
    "        # Shrinking image size to fit the screen\n",
    "        img = cv2.resize(img, (224, 224), fx=0, fy=0, interpolation = None)\n",
    "    except:\n",
    "        break\n",
    "   \n",
    "    # dispay image for specified milliseconds\n",
    "    cv2.imshow('Image', img)\n",
    "    cv2.waitKey(50)\n",
    "\n",
    "# close all the windows after displaying the image\n",
    "cv2.destroyAllWindows()"
   ]
  },
  {
   "cell_type": "markdown",
   "id": "7dd4e69b",
   "metadata": {},
   "source": [
    "### Identifying the ball feature from the image"
   ]
  },
  {
   "cell_type": "markdown",
   "id": "e4042b7e",
   "metadata": {},
   "source": [
    "#### We will be needing this during the initial run-time only, because once we have identified the ball, we can use the same feature again."
   ]
  },
  {
   "cell_type": "code",
   "execution_count": 3,
   "id": "91236435",
   "metadata": {
    "scrolled": true
   },
   "outputs": [
    {
     "data": {
      "text/plain": [
       "\"\\nwhile True :\\n    # Reading the ball image to identify the basketball color\\n    img = cv2.imread('Ball.png')\\n    \\n    # Crop the image to get more clearity of the ball \\n    img = img[0 : 900, : ]\\n    \\n    # Find the color of the ball by manipulating HSL (hue, saturation, lightness) \\n    imgColor, mask = myColorFinder.update(img, hsvVals)\\n    \\n    try:\\n        img = cv2.resize(img, (224, 224), fx=0, fy=0, interpolation=None)\\n    except:\\n        break\\n    \\n    # Reflect the changes in HSL in the image to better manipulate the image\\n    cv2.imshow('ImageColor', imgColor)\\n    cv2.waitKey(50)\\n\\n# close all the windows after displaying the image\\ncv2.destroyAllWindows()\\n\""
      ]
     },
     "execution_count": 3,
     "metadata": {},
     "output_type": "execute_result"
    }
   ],
   "source": [
    "# True: Running in debug mode, trying to find the color of the ball from the image\n",
    "myColorFinder = ColorFinder(True)\n",
    "hsvVals = {'hmin': 8, 'smin': 96, 'vmin':115 , 'hmax': 14, 'smax': 255, 'vmax': 255}\n",
    "'''\n",
    "while True :\n",
    "    # Reading the ball image to identify the basketball color\n",
    "    img = cv2.imread('Ball.png')\n",
    "    \n",
    "    # Crop the image to get more clearity of the ball \n",
    "    img = img[0 : 900, : ]\n",
    "    \n",
    "    # Find the color of the ball by manipulating HSL (hue, saturation, lightness) \n",
    "    imgColor, mask = myColorFinder.update(img, hsvVals)\n",
    "    \n",
    "    try:\n",
    "        img = cv2.resize(img, (224, 224), fx=0, fy=0, interpolation=None)\n",
    "    except:\n",
    "        break\n",
    "    \n",
    "    # Reflect the changes in HSL in the image to better manipulate the image\n",
    "    cv2.imshow('ImageColor', imgColor)\n",
    "    cv2.waitKey(50)\n",
    "\n",
    "# close all the windows after displaying the image\n",
    "cv2.destroyAllWindows()\n",
    "'''"
   ]
  },
  {
   "cell_type": "markdown",
   "id": "f45bede4",
   "metadata": {},
   "source": [
    "### Detecting the basketball after identifying it from the image"
   ]
  },
  {
   "cell_type": "code",
   "execution_count": 18,
   "id": "b5ea2dbe",
   "metadata": {},
   "outputs": [
    {
     "ename": "KeyboardInterrupt",
     "evalue": "",
     "output_type": "error",
     "traceback": [
      "\u001b[1;31m---------------------------------------------------------------------------\u001b[0m",
      "\u001b[1;31mKeyboardInterrupt\u001b[0m                         Traceback (most recent call last)",
      "Input \u001b[1;32mIn [18]\u001b[0m, in \u001b[0;36m<cell line: 1>\u001b[1;34m()\u001b[0m\n\u001b[0;32m     11\u001b[0m     cv2\u001b[38;5;241m.\u001b[39mimshow(\u001b[38;5;124m'\u001b[39m\u001b[38;5;124mImageColor\u001b[39m\u001b[38;5;124m'\u001b[39m, imgColor)\n\u001b[0;32m     12\u001b[0m     cv2\u001b[38;5;241m.\u001b[39mwaitKey(\u001b[38;5;241m5000\u001b[39m)\n\u001b[1;32m---> 14\u001b[0m     \u001b[38;5;28;01mif\u001b[39;00m \u001b[43mcv2\u001b[49m\u001b[38;5;241;43m.\u001b[39;49m\u001b[43mwaitKey\u001b[49m\u001b[43m(\u001b[49m\u001b[38;5;241;43m0\u001b[39;49m\u001b[43m)\u001b[49m:\n\u001b[0;32m     15\u001b[0m         \u001b[38;5;28;01mbreak\u001b[39;00m\n\u001b[0;32m     17\u001b[0m cv2\u001b[38;5;241m.\u001b[39mdestroyAllWindows()\n",
      "\u001b[1;31mKeyboardInterrupt\u001b[0m: "
     ]
    }
   ],
   "source": [
    "while True :\n",
    "    img = cv2.imread('Ball.png')\n",
    "\n",
    "    try:\n",
    "        # Find the colour of the ball HSL (for hue, saturation, lightness) \n",
    "        imgColor, mask = myColorFinder.update(img, hsvVals)\n",
    "    except:\n",
    "        break\n",
    "\n",
    "    img = cv2.resize(imgColor, (0, 0), fx=0.7, fy=0.7, interpolation=None)\n",
    "    cv2.imshow('ImageColor', imgColor)\n",
    "    cv2.waitKey(5000)\n",
    "\n",
    "    if cv2.waitKey(0):\n",
    "        break\n",
    "\n",
    "cv2.destroyAllWindows()"
   ]
  },
  {
   "cell_type": "markdown",
   "id": "075040b0",
   "metadata": {},
   "source": [
    "### Running the masked video that we obtained by extracting the ball feature from the image"
   ]
  },
  {
   "cell_type": "code",
   "execution_count": 20,
   "id": "1ae3a007",
   "metadata": {},
   "outputs": [],
   "source": [
    "cap = cv2.VideoCapture(FILENAME)\n",
    "\n",
    "while True :\n",
    "    success, img = cap.read()\n",
    "    \n",
    "    try:\n",
    "        # Find the colour of the ball HSL (for hue, saturation, lightness) \n",
    "        imgColor, mask = myColorFinder.update(img, hsvVals)\n",
    "    except:\n",
    "        break\n",
    "    \n",
    "    img = cv2.resize(imgColor, (0, 0), fx=0.7, fy=0.7, interpolation=None)\n",
    "    cv2.imshow('imageColor', imgColor)\n",
    "    cv2.waitKey(50)\n",
    "    \n",
    "#     if cv2.waitKey(25) & 0XFF == 27:\n",
    "#         break\n",
    "\n",
    "cv2.destroyAllWindows()"
   ]
  },
  {
   "cell_type": "markdown",
   "id": "170f9f59",
   "metadata": {},
   "source": [
    "### Finding contour points for the basketball that will help us to predict the path of the ball"
   ]
  },
  {
   "cell_type": "code",
   "execution_count": 21,
   "id": "999809dc",
   "metadata": {},
   "outputs": [],
   "source": [
    "cap = cv2.VideoCapture(FILENAME)\n",
    "\n",
    "# Create the color finder object :\n",
    "myColorFinder = ColorFinder(False)\n",
    "hsvVals = {'hmin': 0, 'smin': 105, 'vmin':0 , 'hmax': 15, 'smax': 255, 'vmax': 255}\n",
    "\n",
    "while True :\n",
    "    \n",
    "    # Grab the video\n",
    "    success, img = cap.read()\n",
    "    \n",
    "    try:\n",
    "        # Find the colour of the ball HSL (for hue, saturation, lightness) \n",
    "        imgColor, mask = myColorFinder.update(img, hsvVals)\n",
    "        # Find the location of ball \n",
    "        imgContours, contours = cvzone.findContours(img, mask, minArea=500)\n",
    "    except:\n",
    "        break\n",
    "\n",
    "    if contours:\n",
    "        # Choose the biggest contours(the first element) and its center\n",
    "        cx, cy = contours[0]['center']\n",
    "        # print(cx, cy)\n",
    "        # cv2.circle(img, center, radius , color, thickness)\n",
    "        cv2.circle(imgContours, (cx, cy), 5, (0, 255, 0), cv2.FILLED)\n",
    "    \n",
    "    try:\n",
    "        img = cv2.resize(imgContours, (0, 0), fx=0.7, fy=0.7, interpolation = None)\n",
    "    except:\n",
    "        break\n",
    "   \n",
    "    cv2.imshow('imgColor', imgContours)\n",
    "\n",
    "    if cv2.waitKey(50) & 0XFF== 27:\n",
    "        break \n",
    "\n",
    "# close all the windows after displaying the image\n",
    "cv2.destroyAllWindows()"
   ]
  },
  {
   "cell_type": "markdown",
   "id": "0bd08137",
   "metadata": {},
   "source": [
    "### Plot all the contour points in the final image, tracing the basketball and then connecting them to form a line"
   ]
  },
  {
   "cell_type": "code",
   "execution_count": 22,
   "id": "aab60cd8",
   "metadata": {},
   "outputs": [],
   "source": [
    "cap = cv2.VideoCapture(FILENAME)\n",
    "\n",
    "# Create the color finder object :\n",
    "myColorFinder = ColorFinder(False)\n",
    "hsvVals ={'hmin': 8, 'smin': 96, 'vmin':115 , 'hmax': 14, 'smax': 255, 'vmax': 255}\n",
    "\n",
    "\n",
    "posList = []\n",
    "while True :\n",
    "    # Grab the image/video\n",
    "    success, img = cap.read()\n",
    "    \n",
    "    try:\n",
    "        # Find the colour of the ball HSL (for hue, saturation, lightness) \n",
    "        imgColor, mask=myColorFinder.update(img, hsvVals)\n",
    "    except:\n",
    "        break\n",
    "        \n",
    "    # Find the location of ball \n",
    "    imgContours, contours=cvzone.findContours(img, mask, minArea=500)\n",
    "    \n",
    "    if contours:\n",
    "        #choose the biggest contours and its center\n",
    "        posList.append(contours[0]['center'])\n",
    "        \n",
    "    for i, pos in enumerate(posList):\n",
    "            cv2.circle(imgContours, pos, 5, (0, 255, 0), cv2.FILLED)\n",
    "            \n",
    "            #connecting the circles \n",
    "            if i == 0:\n",
    "                cv2.line(imgContours, pos, pos, (0, 255, 0), 2)\n",
    "            else:\n",
    "                cv2.line(imgContours, pos, posList[i-1], (0, 255, 0), 2)\n",
    "    \n",
    "    img = cv2.resize(imgContours, (0, 0), fx=0.7, fy=0.7, interpolation = None)\n",
    "   \n",
    "    cv2.imshow('imgColor', imgContours)\n",
    "    if cv2.waitKey(50) & 0XFF== 27:\n",
    "        break \n",
    "\n",
    "# close all the windows after displaying the image\n",
    "cv2.destroyAllWindows()"
   ]
  },
  {
   "cell_type": "markdown",
   "id": "52e51b70",
   "metadata": {},
   "source": [
    "### Using polynomial regression, we will predict if the ball will go inside the basket or not.\n",
    "\n",
    "#### We will use polynomial regression of degree 2 which looks like this:\n",
    "#### Y = Ax^2 + Bx + C\n",
    "\n",
    "#### Also, we will find the avg speed of the ball in meter/sec."
   ]
  },
  {
   "cell_type": "code",
   "execution_count": 23,
   "id": "0e2ffd22",
   "metadata": {},
   "outputs": [
    {
     "name": "stderr",
     "output_type": "stream",
     "text": [
      "C:\\Users\\rohan\\AppData\\Local\\Packages\\PythonSoftwareFoundation.Python.3.10_qbz5n2kfra8p0\\LocalCache\\local-packages\\Python310\\site-packages\\IPython\\core\\interactiveshell.py:3398: RankWarning: Polyfit may be poorly conditioned\n",
      "  exec(code_obj, self.user_global_ns, self.user_ns)\n",
      "C:\\Users\\rohan\\AppData\\Local\\Packages\\PythonSoftwareFoundation.Python.3.10_qbz5n2kfra8p0\\LocalCache\\local-packages\\Python310\\site-packages\\IPython\\core\\interactiveshell.py:3398: RankWarning: Polyfit may be poorly conditioned\n",
      "  exec(code_obj, self.user_global_ns, self.user_ns)\n"
     ]
    }
   ],
   "source": [
    "# Intialize the video \n",
    "cap = cv2.VideoCapture(FILENAME)\n",
    "\n",
    "# Finding fps and no. of frames to calculate time per frame\n",
    "fps = cap.get(cv2.CAP_PROP_FPS)\n",
    "frames = cap.get(cv2.CAP_PROP_FRAME_COUNT)\n",
    "\n",
    "# Initializing parameters for speed estimation\n",
    "# meterPerPixel = actual distance / no. of pixels between the distance\n",
    "timeInSeconds = fps/frames\n",
    "meterPerPixel = 3.5/ 500\n",
    "estimatedSpeeds = []\n",
    "\n",
    "# Create the color finder object :\n",
    "myColorFinder = ColorFinder(False)\n",
    "hsvVals ={'hmin': 8, 'smin': 96, 'vmin':115 , 'hmax': 14, 'smax': 255, 'vmax': 255}\n",
    "\n",
    "# Declaring variable to get all point trajectory\n",
    "A, B, C = 0, 0, 0\n",
    "posListX = []\n",
    "posListY = []\n",
    "# 1300 is the maximum width of the image\n",
    "xList = [item for item in range(0, 1300)]\n",
    "prediction = False\n",
    "\n",
    "while True :\n",
    "    # Grab the image/video\n",
    "    success, img = cap.read()\n",
    "\n",
    "    try:\n",
    "        # Find the colour of the ball HSL (for hue, saturation, lightness) \n",
    "        imgColor, mask = myColorFinder.update(img, hsvVals)\n",
    "    except:\n",
    "        break\n",
    "\n",
    "    # Find the location of ball \n",
    "    imgContours, contours = cvzone.findContours(img, mask, minArea=500)\n",
    "\n",
    "    if contours:\n",
    "        #choose the biggest contours and its center\n",
    "        posListX.append(contours[0]['center'][0])\n",
    "        posListY.append(contours[0]['center'][1])\n",
    "    \n",
    "    if posListX:\n",
    "        # Find the coefficients for polynomial equation\n",
    "        A, B, C = np.polyfit(posListX, posListY, 2)\n",
    "        \n",
    "        for i, (posX, posY) in enumerate(zip(posListX, posListY)):\n",
    "            pos = (posX, posY)\n",
    "            cv2.circle(imgContours, pos, 10, (0, 255, 0), cv2.FILLED)\n",
    "            \n",
    "            #connecting the circles \n",
    "            if i == 0:\n",
    "                cv2.line(imgContours, pos, pos, (0, 255, 0), 5)\n",
    "            else:\n",
    "                cv2.line(imgContours, pos, (posListX[i-1], posListY[i-1]), (0, 255, 0), 2)\n",
    "        \n",
    "        # Find the line of quadratic equation and plot the points in the image\n",
    "        for x in xList:\n",
    "            # Y = Ax^2 + Bx + C\n",
    "            y = int( (A*(x**2)) + (B*x) + C )\n",
    "            cv2.circle(imgContours, (x, y), 2, (255, 0, 255), cv2.FILLED)\n",
    "    \n",
    "        # Prediction:\n",
    "        # The width of basket hoop is 330 - 430\n",
    "        # and it it at height of 590 from the bottom of the image\n",
    "        # Now, for Y = 590, find the roots of the equation: Ax^2 + Bx = Y - C and check if X lies within specified range\n",
    "        # Do the prediction for basket with less than 10 frames\n",
    "        if len(posListX) < 10:\n",
    "            a = A\n",
    "            b = B\n",
    "            c = C - 590\n",
    "\n",
    "            try:\n",
    "                x = int((-b - math.sqrt(b**2 - (4 * a * c))) / (2 * a))\n",
    "            except:\n",
    "                break\n",
    "            prediction = 330 < x <430\n",
    "\n",
    "        if prediction:\n",
    "            cvzone.putTextRect(imgContours, \"Basket\", (50, 150), \n",
    "                                   scale=5, thickness=5, colorR=(0, 200, 0), offset=20)\n",
    "        else:\n",
    "            cvzone.putTextRect(imgContours, \"No Basket\", (50, 150), \n",
    "                                   scale=5, thickness=5, colorR=(0, 0, 200), offset=20)\n",
    "    \n",
    "        \n",
    "        # Average Speed\n",
    "        for i, (posX, posY) in enumerate(zip(posListX, posListY)):\n",
    "            if i == 0:\n",
    "                continue\n",
    "            if posListX[i] < 800 :\n",
    "                continue\n",
    "            else:\n",
    "                distance = math.sqrt((posListX[i] - posListX[i-1])**2 + (posListY[i] - posListY[i-1])**2)\n",
    "                # print(distance)\n",
    "                distanceInPixels = abs(distance)\n",
    "                \n",
    "                if distanceInPixels == 0:\n",
    "                        continue\n",
    "                        \n",
    "                distanceInMeters = distanceInPixels * meterPerPixel\n",
    "                estimatedSpeeds.append(distanceInMeters / timeInSeconds)\n",
    "                \n",
    "                avgSpeed = 0\n",
    "                for speed in estimatedSpeeds:\n",
    "                    avgSpeed += speed\n",
    "                avgSpeed /= len(estimatedSpeeds)\n",
    "                \n",
    "                speedInfo = 'Average Speed: ' + '{0:.2f}'.format(avgSpeed) + 'm/sec'\n",
    "                \n",
    "                cvzone.putTextRect(imgContours, str(speedInfo), (50, 225), \n",
    "                                   scale=3, thickness=3, colorR=(200, 0, 0), offset=15)\n",
    "    \n",
    "    img = cv2.resize(imgContours, (0, 0), fx=0.7, fy=0.7, interpolation = None)\n",
    "\n",
    "    cv2.imshow('imgColor', imgContours)\n",
    "    if cv2.waitKey(100) & 0XFF== 27:\n",
    "        break \n",
    "\n",
    "# close all the windows after displaying the image\n",
    "cv2.destroyAllWindows()"
   ]
  },
  {
   "cell_type": "code",
   "execution_count": null,
   "id": "d0ae29e3",
   "metadata": {},
   "outputs": [],
   "source": []
  }
 ],
 "metadata": {
  "kernelspec": {
   "display_name": "Python 3 (ipykernel)",
   "language": "python",
   "name": "python3"
  },
  "language_info": {
   "codemirror_mode": {
    "name": "ipython",
    "version": 3
   },
   "file_extension": ".py",
   "mimetype": "text/x-python",
   "name": "python",
   "nbconvert_exporter": "python",
   "pygments_lexer": "ipython3",
   "version": "3.10.9"
  },
  "toc-autonumbering": true,
  "toc-showcode": true,
  "toc-showmarkdowntxt": false,
  "vscode": {
   "interpreter": {
    "hash": "646e574d0f0abd28d90d0acc2a8a5d150f3935c6a60a5ba1256abe0f794b5742"
   }
  }
 },
 "nbformat": 4,
 "nbformat_minor": 5
}
